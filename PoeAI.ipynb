{
  "nbformat": 4,
  "nbformat_minor": 0,
  "metadata": {
    "colab": {
      "name": "PoeAI.ipynb",
      "provenance": [],
      "authorship_tag": "ABX9TyM45Zby+OnapBU1tH3X5hhF",
      "include_colab_link": true
    },
    "kernelspec": {
      "name": "python3",
      "display_name": "Python 3"
    },
    "accelerator": "GPU"
  },
  "cells": [
    {
      "cell_type": "markdown",
      "metadata": {
        "id": "view-in-github",
        "colab_type": "text"
      },
      "source": [
        "<a href=\"https://colab.research.google.com/github/Lebaa/PoeAIBot/blob/master/PoeAI.ipynb\" target=\"_parent\"><img src=\"https://colab.research.google.com/assets/colab-badge.svg\" alt=\"Open In Colab\"/></a>"
      ]
    },
    {
      "cell_type": "code",
      "metadata": {
        "id": "1PxhgFnoWrdD"
      },
      "source": [
        "!pip install pandas --upgrade\n",
        "!pip install fastai --upgrade"
      ],
      "execution_count": null,
      "outputs": []
    },
    {
      "cell_type": "code",
      "metadata": {
        "id": "0pZWNs2oW1va"
      },
      "source": [
        "from fastai.vision.all import *\n",
        "from google.colab import drive"
      ],
      "execution_count": null,
      "outputs": []
    },
    {
      "cell_type": "code",
      "metadata": {
        "id": "O5mykvR4XAlc"
      },
      "source": [
        "drive.mount('/content/gdrive', force_remount=True)"
      ],
      "execution_count": null,
      "outputs": []
    },
    {
      "cell_type": "code",
      "metadata": {
        "id": "TCHo6dgoXRv7"
      },
      "source": [
        "path = Path('/content/gdrive/My Drive/PoeAI/')\n",
        "fnames = get_image_files(path)\n",
        "print(f\"Total images:{len(fnames)}\")\n",
        "def label_func(x): return x.parent.name\n",
        "dls = ImageDataLoaders.from_path_func(path, fnames,label_func)"
      ],
      "execution_count": null,
      "outputs": []
    },
    {
      "cell_type": "code",
      "metadata": {
        "id": "9plsSAGxrGuw"
      },
      "source": [
        "dls.valid.show_batch(max_n=9, nrows=1)"
      ],
      "execution_count": null,
      "outputs": []
    },
    {
      "cell_type": "code",
      "metadata": {
        "id": "N8uqK6n5rj6V"
      },
      "source": [
        "learn0 = cnn_learner(dls, resnet18, metrics=error_rate)\n",
        "learn1 = cnn_learner(dls, resnet34, metrics=error_rate)\n",
        "learn2 = cnn_learner(dls, resnet50, metrics=error_rate)"
      ],
      "execution_count": null,
      "outputs": []
    },
    {
      "cell_type": "code",
      "metadata": {
        "id": "z3slnDPSrteA"
      },
      "source": [
        "learn0.fine_tune(5, base_lr=1.0e-02)\n",
        "learn1.fine_tune(5, base_lr=1.0e-02)\n",
        "learn2.fine_tune(5, base_lr=1.0e-02)"
      ],
      "execution_count": null,
      "outputs": []
    },
    {
      "cell_type": "code",
      "metadata": {
        "id": "-RFIxvhdEpBP"
      },
      "source": [
        "interp = ClassificationInterpretation.from_learner(learn0)\n",
        "interp.plot_confusion_matrix()"
      ],
      "execution_count": null,
      "outputs": []
    },
    {
      "cell_type": "code",
      "metadata": {
        "id": "zGJV1sPQT3fl"
      },
      "source": [
        "interp = ClassificationInterpretation.from_learner(learn1)\n",
        "interp.plot_confusion_matrix()"
      ],
      "execution_count": null,
      "outputs": []
    },
    {
      "cell_type": "code",
      "metadata": {
        "id": "L4cUR7UyT44w"
      },
      "source": [
        "interp = ClassificationInterpretation.from_learner(learn2)\n",
        "interp.plot_confusion_matrix()"
      ],
      "execution_count": null,
      "outputs": []
    }
  ]
}